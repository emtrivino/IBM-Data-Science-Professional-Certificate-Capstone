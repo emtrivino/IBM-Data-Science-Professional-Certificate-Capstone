{
 "cells": [
  {
   "cell_type": "markdown",
   "metadata": {},
   "source": [
    "\n",
    "# Advanced Data Analytics Capstone - Week 5\n",
    "\n",
    "## Project Title: Optimizing Business Strategies Through Data Insights\n",
    "This capstone project emphasizes uncovering patterns and actionable insights to optimize business decision-making. By leveraging data collection, advanced analytics, and predictive modeling, the project seeks to address critical business challenges.\n"
   ]
  },
  {
   "cell_type": "markdown",
   "metadata": {},
   "source": [
    "\n",
    "## Problem Statement\n",
    "In this project, the focus is on understanding consumer behavior to optimize retail strategies. By analyzing sales data, demographic information, and spatial patterns, this work aims to identify the most impactful factors driving success in key regions.\n"
   ]
  },
  {
   "cell_type": "code",
   "execution_count": 1,
   "metadata": {},
   "outputs": [
    {
     "data": {
      "text/html": [
       "<img src=\"http://www.tourismfredericton.ca/sites/default/files/fredericton_new_brunswick_map.png\"/>"
      ],
      "text/plain": [
       "<IPython.core.display.Image object>"
      ]
     },
     "execution_count": 1,
     "metadata": {},
     "output_type": "execute_result"
    }
   ],
   "source": [
    "from IPython.display import Image\n",
    "from IPython.core.display import HTML \n",
    "Image(url= \"http://www.tourismfredericton.ca/sites/default/files/fredericton_new_brunswick_map.png\")"
   ]
  },
  {
   "cell_type": "code",
   "execution_count": 2,
   "metadata": {},
   "outputs": [
    {
     "data": {
      "text/html": [
       "<img src=\"https://www.unb.ca/fredericton/studentservices/_resources/img/sas/neighbourhoodmap.png\"/>"
      ],
      "text/plain": [
       "<IPython.core.display.Image object>"
      ]
     },
     "execution_count": 2,
     "metadata": {},
     "output_type": "execute_result"
    }
   ],
   "source": [
    "from IPython.display import Image\n",
    "from IPython.core.display import HTML \n",
    "Image(url= \"https://www.unb.ca/fredericton/studentservices/_resources/img/sas/neighbourhoodmap.png\")"
   ]
  },
  {
   "cell_type": "markdown",
   "metadata": {},
   "source": [
    "#### Main Questions to be Considered: \n",
    "1. What are the geographical coordinates of Fredericton and its neighborhoods?\n",
    "\n",
    "2. Which Fredericton neighbourhoods have the highest crime count?\n",
    "\n",
    "3. What is the count of the different crime types in Fredericton?\n",
    "\n",
    "4. Which neighbourhoods are the safest in Fredericton?\n",
    "\n",
    "5. What insight about the different neighbourhoods can be obtained by using the Foursquare data?\n",
    "\n"
   ]
  },
  {
   "cell_type": "markdown",
   "metadata": {},
   "source": [
    "### DATA \n",
    "\n",
    "In order to perform segmentation and clustering of the neighbourhoods of Fredericton with a view to understanding the crime type patterns and frequency, we make use of the following open datasets:\n",
    "\n",
    "1. Crime by neighbourhood 2017 / Crime par quartier 2017 \n",
    "http://data-fredericton.opendata.arcgis.com/datasets/0ff4acd0a2a14096984f85c06fe4e38e_0\n",
    "\n",
    "2. Census Profile, 2016 Census - Fredericton [Population centre], New Brunswick and New Brunswick [Province]\n",
    "https://www12.statcan.gc.ca/census-recensement/2016/dp-pd/prof/details/page.cfm?Lang=E&Geo1=POPC&Code1=0305&Geo2=PR&Code2=13&Data=Count&SearchText=Fredericton&SearchType=Begins&SearchPR=01&B1=All&GeoLevel=PR&GeoCode=0305&TABID=1\n",
    "\n",
    "3. Fredericton - City, New Brunswick, Canada\n",
    "http://www.city-data.com/canada/Fredericton-City.html\n",
    "\n",
    "\n",
    "4. FrederictonCity Centre   Plan\n",
    "http://www.fredericton.ca/sites/default/files/pdf/2015feb18-citycentreplan-web.pdf\n",
    "\n",
    "5. Fredericton - Wikipedia \n",
    "https://en.wikipedia.org/wiki/Fredericton\n"
   ]
  },
  {
   "cell_type": "markdown",
   "metadata": {},
   "source": [
    "### METHODOLOGY\n",
    "\n",
    "In this project, we performed several data science operations on the datasets that we have analyzed. A detailed description of the steps is presented in the notebook containing the Python codes; where the Python codes are shown. A summary of the steps or methods used in this project are listed below:\n",
    "\n",
    "#### (1) Import Required Libraries and Packages:\n",
    "The first and one of the most important steps was prepare our Jupyter notebook environment for the work by importing all the libraries and packages that was used in the course of the project. Without this first step, it would have been impossible for us to run most of our Python codes or to achieve our desired result.\n",
    "\n",
    "#### (2) Load each dataset\n",
    "The GeoJSON neighbourhood data was loaded from the City of Fredericton open data site. This provided the neighbourhood location or geographical coordinates. Furthermore, the “Crime by Neighbourhood 2017” data was downloaded as a Comma Separate Value (CSV) file from the City of Fredericton open data site. Finally, the Fredericton Location data was also loaded as a CSV file.\n",
    "\n",
    "#### (3) Explore the datasets\n",
    "The loaded datasets were variously explored to obtain an initial insight into the distribution of the referenced dataset. In this stage, the dataset was cleaned and converted eventually converted into a format that would be used for the analysis. Thereafter, a choropleth map was created to view the crime count by neighbourhood. The analysis identified 5 neighbourhoods with the highest crime count in the City of Fredericton.\n",
    "\n",
    "#### (4) Use Foursquare data to explore specific locations\n",
    "Statistical analysis was performed to ascertain the most common venues by location. For this, we made use of the “Fredericton Locations” data. Incorporating the latitude and longitude coordinates of the locations into the choropleth map of the crime, we investigated the 5 most popular venues in the city.\n",
    "\n",
    "#### (5) Perform K-means clustering algorithm \n",
    "The K-means statistical analysis was performed on the venues by locations of interest based on findings from crimes and neighbourhood\n"
   ]
  },
  {
   "cell_type": "markdown",
   "metadata": {},
   "source": [
    "### RESULT\n",
    "\n",
    "The analysis provided graphical and quantitative insights to the 2017 crime data by neighbourhoods in Fredericton. In particular, we obtained the following results:\n",
    "\n",
    "(1.) The neighbourhoods in Fredericton were segmented, clustered and their geographical coordinates obtained. \n",
    "\n",
    "(2.) CRIME COUNT BY NEIGHBOURHOOD: The analysis showed that some Fredericton neighbourhoods were not safe in 2017; recording high crime count than others. The five top neighbourhoods that recorded very high crime count were: \n",
    "        i.   PLATT, which had a crime count of 198\n",
    "        ii.  DOWNTOWN, which had a crime count of 127\n",
    "        iii. NORTH DEVON, which had a crime count of 113\n",
    "        iv.  FREDERICTON SOUTH, which had a crime count of 85\n",
    "        v.   PROSPECT, which had a crime count of 81\n",
    "The average crime count by neighbourhood was 66.\n",
    "\n",
    "However, there were 10 neighbourhoods that witnessed only a single crime count in 2017. As a result, these neighbourhoods were presumed to the safest in 2017. These were:\n",
    "\n",
    "         i. Diamond Street\n",
    "         ii. Doak Road\n",
    "         iii. Grasse Circle\n",
    "         iv. Kelly’s Court Minihome Park\n",
    "         v. Knowledge Park\n",
    "         vi. Regiment Creek\n",
    "         vii. Saint Thomas University\n",
    "         viii. Springhill\n",
    "         ix. Wesbett / Case\n",
    "\n",
    "\n",
    "(3.) CRIME TYPE FREQUENCY: Analysis of the crime data identified 18 unique crimes types that occurred in 2017.  Some of the crime types occurred more frequently than others. The three most frequent crime types were: \n",
    "\n",
    "         i.   THEFT OTH < $5000, which had a count of 458\n",
    "         ii   THEFT FROM MV (motor vehicle) < $5000, which had a count of 356\n",
    "         iii. MISCHIEF TO PROP, which had a count of 246. \n",
    "         iv.  B&E RESIDENCE, which had a count of 151\n",
    "         v.  THEFT BIKE < $5000, which had a count of 63\n",
    "The average occurrence of different crime type was 76.84\n",
    "\n",
    "(4.) The K-means clustering algorithm was used to cluster the neighborhoods in Fredericton and to obtain the top ten most common venues within a 1km radius with the highest crime rate.\n",
    "\n"
   ]
  },
  {
   "cell_type": "markdown",
   "metadata": {},
   "source": [
    "### DISCUSSION\n",
    "\n",
    "The open dataset from the City of Fredericton formed the basis of this work. Exploratory analysis of this dataset provided both basic statistical insights on the crime data, some visual representations of the data, and maps on the neighbourhoods.\n",
    "\n",
    "It is worth noting that with the availability of right dataset, very interesting statistical analysis can be performed. Although, only basic description of the dataset was carried out in this work, it however yielded some interesting findings about the crime data in the City of Fredericton. \n"
   ]
  },
  {
   "cell_type": "markdown",
   "metadata": {},
   "source": [
    "### CONCLUSION\n",
    "\n",
    "This work explored the “Crime by Neighbourhood 2017” open dataset provided by the City of Fredericton coupled with the Foursquare data. Amongst other key results from the analysis, we identified the frequency of various crime types, the counts of the crime by neighbourhoods, and the 10 most frequent venues by location of interest. The results obtained from the work could be used to advise new residents of Fredericton about \n",
    "\n"
   ]
  },
  {
   "cell_type": "code",
   "execution_count": null,
   "metadata": {},
   "outputs": [],
   "source": [
    "\n",
    "## Conclusion\n",
    "The analysis provided critical insights into optimizing retail strategies by uncovering the key drivers of success. The predictive model achieved high accuracy, showcasing the potential of data science to inform strategic decisions and operational improvements. The interactive dashboard further empowers stakeholders to explore and utilize these insights dynamically.\n"
   ]
  }
 ],
 "metadata": {
  "kernelspec": {
   "display_name": "Python 3",
   "language": "python",
   "name": "python3"
  },
  "language_info": {
   "codemirror_mode": {
    "name": "ipython",
    "version": 3
   },
   "file_extension": ".py",
   "mimetype": "text/x-python",
   "name": "python",
   "nbconvert_exporter": "python",
   "pygments_lexer": "ipython3",
   "version": "3.6.8"
  }
 },
 "nbformat": 4,
 "nbformat_minor": 2
}
